{
 "cells": [
  {
   "cell_type": "code",
   "execution_count": 61,
   "metadata": {},
   "outputs": [],
   "source": [
    "import numpy as np \n",
    "import pandas as pd\n",
    "import nltk\n",
    "import matplotlib.pyplot as plt\n",
    "import re\n",
    "from sklearn.feature_extraction.text import CountVectorizer\n",
    "\n",
    "from sklearn.feature_extraction import text\n",
    "import warnings\n",
    "warnings.filterwarnings(\"ignore\")"
   ]
  },
  {
   "cell_type": "markdown",
   "metadata": {},
   "source": [
    "## Inspecting Dataset"
   ]
  },
  {
   "cell_type": "code",
   "execution_count": 62,
   "metadata": {},
   "outputs": [
    {
     "name": "stdout",
     "output_type": "stream",
     "text": [
      "                                           urdu_text  is_sarcastic\n",
      "0  🤣😂😂 ہو لینے دے میری شادی فسادن ٹھیک ہے کوجی نہ...             1\n",
      "1  چل مہمانوں میں کھانا سرو کر چڑیل چاچی نوں دسدی...             1\n",
      "2  کامران خان آپکی دن بھریہ زمہ داری لگائی گئی اپ...             0\n",
      "3                                       نہیں پائین 😎             0\n",
      "4   `` مراد علی شاہ کے بھیس میں ڈی جی آئی ایس آئی...             1\n",
      "5        قابل اعتبار ہی اکثر قاتل اعتبار ہوتے ہیں 💔🔥             1\n",
      "6      انساں کو تھکا دیتا ہے سوچوں کا سفر بھی ... 🍁🥀             0\n",
      "7                              حامد میر صاحب ویلڈن👏😊             0\n",
      "8  یار وچارہ ویلا ہوندا ہے اس آرے لگا ہویا ہے😂😂 ت...             1\n",
      "9           یہ سمجھتے ہیں سارا پاکستان بیوقوف ھے 😂😂😂             1\n"
     ]
    }
   ],
   "source": [
    "file_path = 'urdu_sarcastic_dataset.csv'\n",
    "urdu_doc = pd.read_csv(file_path)\n",
    "\n",
    "# Drop unnecessary columns\n",
    "urdu_doc = urdu_doc.drop(columns=['Unnamed: 2', 'Unnamed: 3', 'Unnamed: 4', 'Unnamed: 5', 'Unnamed: 6', 'Unnamed: 7'])\n",
    "\n",
    "# Remove duplicates\n",
    "urdu_doc.drop_duplicates(subset='urdu_text', inplace=True)\n",
    "\n",
    "# Handle missing values (drop rows where text or label is missing)\n",
    "urdu_doc.dropna(subset=['urdu_text', 'is_sarcastic'], inplace=True)\n",
    "\n",
    "# Ensure labels are encoded as integer\n",
    "urdu_doc['is_sarcastic'] = urdu_doc['is_sarcastic'].astype(int)\n",
    "\n",
    "\n",
    "print(urdu_doc.head(10))"
   ]
  },
  {
   "cell_type": "code",
   "execution_count": 63,
   "metadata": {},
   "outputs": [
    {
     "data": {
      "text/plain": [
       "(15813, 2)"
      ]
     },
     "execution_count": 63,
     "metadata": {},
     "output_type": "execute_result"
    }
   ],
   "source": [
    "urdu_doc.shape"
   ]
  },
  {
   "cell_type": "code",
   "execution_count": 3,
   "metadata": {},
   "outputs": [
    {
     "data": {
      "text/html": [
       "<div>\n",
       "<style scoped>\n",
       "    .dataframe tbody tr th:only-of-type {\n",
       "        vertical-align: middle;\n",
       "    }\n",
       "\n",
       "    .dataframe tbody tr th {\n",
       "        vertical-align: top;\n",
       "    }\n",
       "\n",
       "    .dataframe thead th {\n",
       "        text-align: right;\n",
       "    }\n",
       "</style>\n",
       "<table border=\"1\" class=\"dataframe\">\n",
       "  <thead>\n",
       "    <tr style=\"text-align: right;\">\n",
       "      <th></th>\n",
       "      <th>urdu_text</th>\n",
       "      <th>is_sarcastic</th>\n",
       "    </tr>\n",
       "  </thead>\n",
       "  <tbody>\n",
       "    <tr>\n",
       "      <th>0</th>\n",
       "      <td>🤣😂😂 ہو لینے دے میری شادی فسادن ٹھیک ہے کوجی نہ...</td>\n",
       "      <td>1</td>\n",
       "    </tr>\n",
       "    <tr>\n",
       "      <th>1</th>\n",
       "      <td>چل مہمانوں میں کھانا سرو کر چڑیل چاچی نوں دسدی...</td>\n",
       "      <td>1</td>\n",
       "    </tr>\n",
       "    <tr>\n",
       "      <th>2</th>\n",
       "      <td>کامران خان آپکی دن بھریہ زمہ داری لگائی گئی اپ...</td>\n",
       "      <td>0</td>\n",
       "    </tr>\n",
       "    <tr>\n",
       "      <th>3</th>\n",
       "      <td>نہیں پائین 😎</td>\n",
       "      <td>0</td>\n",
       "    </tr>\n",
       "    <tr>\n",
       "      <th>4</th>\n",
       "      <td>`` مراد علی شاہ کے بھیس میں ڈی جی آئی ایس آئی...</td>\n",
       "      <td>1</td>\n",
       "    </tr>\n",
       "    <tr>\n",
       "      <th>5</th>\n",
       "      <td>قابل اعتبار ہی اکثر قاتل اعتبار ہوتے ہیں 💔🔥</td>\n",
       "      <td>1</td>\n",
       "    </tr>\n",
       "    <tr>\n",
       "      <th>6</th>\n",
       "      <td>انساں کو تھکا دیتا ہے سوچوں کا سفر بھی ... 🍁🥀</td>\n",
       "      <td>0</td>\n",
       "    </tr>\n",
       "    <tr>\n",
       "      <th>7</th>\n",
       "      <td>حامد میر صاحب ویلڈن👏😊</td>\n",
       "      <td>0</td>\n",
       "    </tr>\n",
       "    <tr>\n",
       "      <th>8</th>\n",
       "      <td>یار وچارہ ویلا ہوندا ہے اس آرے لگا ہویا ہے😂😂 ت...</td>\n",
       "      <td>1</td>\n",
       "    </tr>\n",
       "    <tr>\n",
       "      <th>9</th>\n",
       "      <td>یہ سمجھتے ہیں سارا پاکستان بیوقوف ھے 😂😂😂</td>\n",
       "      <td>1</td>\n",
       "    </tr>\n",
       "  </tbody>\n",
       "</table>\n",
       "</div>"
      ],
      "text/plain": [
       "                                           urdu_text  is_sarcastic\n",
       "0  🤣😂😂 ہو لینے دے میری شادی فسادن ٹھیک ہے کوجی نہ...             1\n",
       "1  چل مہمانوں میں کھانا سرو کر چڑیل چاچی نوں دسدی...             1\n",
       "2  کامران خان آپکی دن بھریہ زمہ داری لگائی گئی اپ...             0\n",
       "3                                       نہیں پائین 😎             0\n",
       "4   `` مراد علی شاہ کے بھیس میں ڈی جی آئی ایس آئی...             1\n",
       "5        قابل اعتبار ہی اکثر قاتل اعتبار ہوتے ہیں 💔🔥             1\n",
       "6      انساں کو تھکا دیتا ہے سوچوں کا سفر بھی ... 🍁🥀             0\n",
       "7                              حامد میر صاحب ویلڈن👏😊             0\n",
       "8  یار وچارہ ویلا ہوندا ہے اس آرے لگا ہویا ہے😂😂 ت...             1\n",
       "9           یہ سمجھتے ہیں سارا پاکستان بیوقوف ھے 😂😂😂             1"
      ]
     },
     "execution_count": 3,
     "metadata": {},
     "output_type": "execute_result"
    }
   ],
   "source": [
    "urdu_doc.head(10)"
   ]
  },
  {
   "cell_type": "code",
   "execution_count": 5,
   "metadata": {},
   "outputs": [
    {
     "name": "stdout",
     "output_type": "stream",
     "text": [
      "                                           urdu_text  is_sarcastic\n",
      "0  🤣😂😂 ہو لینے دے میری شادی فسادن ٹھیک ہے کوجی نہ...             1\n",
      "1  چل مہمانوں میں کھانا سرو کر چڑیل چاچی نوں دسدی...             1\n",
      "2  کامران خان آپکی دن بھریہ زمہ داری لگائی گئی اپ...             0\n",
      "3                                       نہیں پائین 😎             0\n",
      "4   `` مراد علی شاہ کے بھیس میں ڈی جی آئی ایس آئی...             1\n"
     ]
    }
   ],
   "source": [
    "print(urdu_doc.head(5))"
   ]
  },
  {
   "cell_type": "code",
   "execution_count": null,
   "metadata": {},
   "outputs": [],
   "source": []
  },
  {
   "cell_type": "markdown",
   "metadata": {},
   "source": [
    "#Phase 1\n",
    "# Text preprocessing\n",
    "\n",
    "### Data Cleansing\n"
   ]
  },
  {
   "cell_type": "code",
   "execution_count": 6,
   "metadata": {},
   "outputs": [
    {
     "data": {
      "text/plain": [
       "[<matplotlib.lines.Line2D at 0x218a76c7500>]"
      ]
     },
     "execution_count": 6,
     "metadata": {},
     "output_type": "execute_result"
    },
    {
     "data": {
      "image/png": "[encoded data removed]",
      "text/plain": [
       "<Figure size 640x480 with 1 Axes>"
      ]
     },
     "metadata": {},
     "output_type": "display_data"
    }
   ],
   "source": [
    "plt.plot(urdu_doc['is_sarcastic'].value_counts())"
   ]
  },
  {
   "cell_type": "code",
   "execution_count": 7,
   "metadata": {},
   "outputs": [
    {
     "data": {
      "text/plain": [
       "is_sarcastic\n",
       "0    9192\n",
       "1    6621\n",
       "Name: count, dtype: int64"
      ]
     },
     "execution_count": 7,
     "metadata": {},
     "output_type": "execute_result"
    }
   ],
   "source": [
    "urdu_doc['is_sarcastic'].value_counts()"
   ]
  },
  {
   "cell_type": "markdown",
   "metadata": {},
   "source": [
    "### Removing stops words"
   ]
  },
  {
   "cell_type": "code",
   "execution_count": 187,
   "metadata": {},
   "outputs": [],
   "source": []
  },
  {
   "cell_type": "code",
   "execution_count": 64,
   "metadata": {},
   "outputs": [],
   "source": [
    "urdu_stopwords = [\n",
    "    \"ہے\", \"یہ\", \"کے\", \"میں\", \"کی\", \"کو\", \"سے\", \"اور\", \"ایک\", \"کہ\", \"کا\", \"جو\"\n",
    "   \n",
    "]\n",
    "\n",
    "def remove_stopwords(text):\n",
    "    if pd.isnull(text):  # Handle NaN or missing values\n",
    "        return text\n",
    "    \n",
    "    new_text = []\n",
    "    \n",
    "    # Split the text and remove stopwords\n",
    "    for word in str(text).split():\n",
    "        if word not in urdu_stopwords:  # Check if word is not in stopwords\n",
    "            new_text.append(word)\n",
    "    \n",
    "    return \" \".join(new_text)"
   ]
  },
  {
   "cell_type": "code",
   "execution_count": 65,
   "metadata": {},
   "outputs": [],
   "source": [
    "urdu_doc['urdu_text'] = urdu_doc['urdu_text'].apply(remove_stopwords)"
   ]
  },
  {
   "cell_type": "code",
   "execution_count": 6,
   "metadata": {},
   "outputs": [
    {
     "name": "stdout",
     "output_type": "stream",
     "text": [
      "                                           urdu_text  is_sarcastic\n",
      "0  🤣😂😂 ہو لینے دے میری شادی فسادن ٹھیک کوجی نہیں ...             1\n",
      "1  چل مہمانوں کھانا سرو کر چڑیل چاچی نوں دسدی آں ...             1\n",
      "2  کامران خان آپکی دن بھریہ زمہ داری لگائی گئی اپ...             0\n",
      "3                                       نہیں پائین 😎             0\n",
      "4  `` مراد علی شاہ بھیس ڈی جی آئی ایس آئی تھے '' ...             1\n"
     ]
    }
   ],
   "source": [
    "print(urdu_doc.head(5))"
   ]
  },
  {
   "cell_type": "markdown",
   "metadata": {},
   "source": [
    "Data Cleaning"
   ]
  },
  {
   "cell_type": "code",
   "execution_count": 66,
   "metadata": {},
   "outputs": [],
   "source": [
    "import emoji\n",
    "\n",
    "\n",
    "def translate_emojis(text):\n",
    "        return emoji.demojize(text)\n",
    "def removing_unwanted_data(text):\n",
    "    \n",
    "    # Format words and remove unwanted characters\n",
    "    text = re.sub(r'https?:\\/\\/.*[\\r\\n]*', '', text, flags=re.MULTILINE)\n",
    "    text = re.sub(r'\\<a href', ' ', text)\n",
    "    text = re.sub(r'&amp;', '', text) \n",
    "    text = re.sub(r'[_\"\\-;%()|+&=*%.,!?:#$@\\[\\]/]', ' ', text)\n",
    "    text = re.sub(r'<br />', ' ', text)\n",
    "    text = re.sub(r'\\'', ' ', text)\n",
    "    \n",
    "    \n",
    "\n",
    "\n",
    "    # Tokenize each word\n",
    "    text= translate_emojis(text)\n",
    "    \n",
    "        \n",
    "    return text\n"
   ]
  },
  {
   "cell_type": "code",
   "execution_count": 67,
   "metadata": {},
   "outputs": [],
   "source": [
    "urdu_doc['text_cleaned'] = urdu_doc['urdu_text'].apply(lambda x: removing_unwanted_data(str(x)) )\n"
   ]
  },
  {
   "cell_type": "code",
   "execution_count": 68,
   "metadata": {},
   "outputs": [
    {
     "name": "stdout",
     "output_type": "stream",
     "text": [
      "                                           urdu_text  is_sarcastic  \\\n",
      "0  🤣😂😂 ہو لینے دے میری شادی فسادن ٹھیک کوجی نہیں ...             1   \n",
      "1  چل مہمانوں کھانا سرو کر چڑیل چاچی نوں دسدی آں ...             1   \n",
      "2  کامران خان آپکی دن بھریہ زمہ داری لگائی گئی اپ...             0   \n",
      "3                                       نہیں پائین 😎             0   \n",
      "4  `` مراد علی شاہ بھیس ڈی جی آئی ایس آئی تھے '' ...             1   \n",
      "5        قابل اعتبار ہی اکثر قاتل اعتبار ہوتے ہیں 💔🔥             1   \n",
      "6               انساں تھکا دیتا سوچوں سفر بھی ... 🍁🥀             0   \n",
      "7                              حامد میر صاحب ویلڈن👏😊             0   \n",
      "8  یار وچارہ ویلا ہوندا اس آرے لگا ہویا ہے😂😂 تسی ...             1   \n",
      "9              سمجھتے ہیں سارا پاکستان بیوقوف ھے 😂😂😂             1   \n",
      "\n",
      "                                        text_cleaned  \n",
      "0  :rolling_on_the_floor_laughing::face_with_tear...  \n",
      "1  چل مہمانوں کھانا سرو کر چڑیل چاچی نوں دسدی آں ...  \n",
      "2  کامران خان آپکی دن بھریہ زمہ داری لگائی گئی اپ...  \n",
      "3          نہیں پائین :smiling_face_with_sunglasses:  \n",
      "4  `` مراد علی شاہ بھیس ڈی جی آئی ایس آئی تھے    ...  \n",
      "5  قابل اعتبار ہی اکثر قاتل اعتبار ہوتے ہیں :brok...  \n",
      "6  انساں تھکا دیتا سوچوں سفر بھی     :maple_leaf:...  \n",
      "7  حامد میر صاحب ویلڈن:clapping_hands::smiling_fa...  \n",
      "8  یار وچارہ ویلا ہوندا اس آرے لگا ہویا ہے:face_w...  \n",
      "9  سمجھتے ہیں سارا پاکستان بیوقوف ھے :face_with_t...  \n"
     ]
    }
   ],
   "source": [
    "print(urdu_doc.head(10))  "
   ]
  },
  {
   "cell_type": "code",
   "execution_count": 10,
   "metadata": {},
   "outputs": [],
   "source": [
    "def filter_short_posts(text, min_words=3):\n",
    "    return text if len(text.split()) >= min_words else \"\"\n"
   ]
  },
  {
   "cell_type": "code",
   "execution_count": 11,
   "metadata": {},
   "outputs": [],
   "source": [
    "urdu_doc['text_cleaned'] = urdu_doc['text_cleaned'].apply(lambda x:filter_short_posts(str(x)))"
   ]
  },
  {
   "cell_type": "code",
   "execution_count": 12,
   "metadata": {},
   "outputs": [
    {
     "name": "stdout",
     "output_type": "stream",
     "text": [
      "                                           urdu_text  is_sarcastic  \\\n",
      "0  🤣😂😂 ہو لینے دے میری شادی فسادن ٹھیک کوجی نہیں ...             1   \n",
      "1  چل مہمانوں کھانا سرو کر چڑیل چاچی نوں دسدی آں ...             1   \n",
      "2  کامران خان آپکی دن بھریہ زمہ داری لگائی گئی اپ...             0   \n",
      "3                                       نہیں پائین 😎             0   \n",
      "4  `` مراد علی شاہ بھیس ڈی جی آئی ایس آئی تھے '' ...             1   \n",
      "5        قابل اعتبار ہی اکثر قاتل اعتبار ہوتے ہیں 💔🔥             1   \n",
      "6               انساں تھکا دیتا سوچوں سفر بھی ... 🍁🥀             0   \n",
      "7                              حامد میر صاحب ویلڈن👏😊             0   \n",
      "8  یار وچارہ ویلا ہوندا اس آرے لگا ہویا ہے😂😂 تسی ...             1   \n",
      "9              سمجھتے ہیں سارا پاکستان بیوقوف ھے 😂😂😂             1   \n",
      "\n",
      "                                        text_cleaned  \n",
      "0  :rolling_on_the_floor_laughing::face_with_tear...  \n",
      "1  چل مہمانوں کھانا سرو کر چڑیل چاچی نوں دسدی آں ...  \n",
      "2  کامران خان آپکی دن بھریہ زمہ داری لگائی گئی اپ...  \n",
      "3          نہیں پائین :smiling_face_with_sunglasses:  \n",
      "4  `` مراد علی شاہ بھیس ڈی جی آئی ایس آئی تھے    ...  \n",
      "5  قابل اعتبار ہی اکثر قاتل اعتبار ہوتے ہیں :brok...  \n",
      "6  انساں تھکا دیتا سوچوں سفر بھی     :maple_leaf:...  \n",
      "7  حامد میر صاحب ویلڈن:clapping_hands::smiling_fa...  \n",
      "8  یار وچارہ ویلا ہوندا اس آرے لگا ہویا ہے:face_w...  \n",
      "9  سمجھتے ہیں سارا پاکستان بیوقوف ھے :face_with_t...  \n"
     ]
    }
   ],
   "source": [
    "print(urdu_doc.head(10))  "
   ]
  },
  {
   "cell_type": "markdown",
   "metadata": {},
   "source": [
    "Phase 2: Stemming and Lemmatization for Urdu Text"
   ]
  },
  {
   "cell_type": "code",
   "execution_count": 13,
   "metadata": {},
   "outputs": [],
   "source": [
    "def urdu_stemming(text):\n",
    "    # Simple stemming logic: strip common suffixes\n",
    "    suffixes = ['ا', 'ی', 'وں', 'یں', 'وں', 'ے', 'کی', 'کے']\n",
    "    stemmed_words = []\n",
    "\n",
    "    for word in text.split():\n",
    "        for suffix in suffixes:\n",
    "            if word.endswith(suffix):\n",
    "                word = word[:-len(suffix)]  # Remove the suffix\n",
    "        stemmed_words.append(word)\n",
    "\n",
    "    return ' '.join(stemmed_words)\n"
   ]
  },
  {
   "cell_type": "code",
   "execution_count": 14,
   "metadata": {},
   "outputs": [],
   "source": [
    "urdu_doc['text_cleaned'] = urdu_doc['text_cleaned'].apply(lambda x:urdu_stemming(str(x)))"
   ]
  },
  {
   "cell_type": "code",
   "execution_count": 15,
   "metadata": {},
   "outputs": [
    {
     "name": "stdout",
     "output_type": "stream",
     "text": [
      "                                           urdu_text  is_sarcastic  \\\n",
      "0  🤣😂😂 ہو لینے دے میری شادی فسادن ٹھیک کوجی نہیں ...             1   \n",
      "1  چل مہمانوں کھانا سرو کر چڑیل چاچی نوں دسدی آں ...             1   \n",
      "2  کامران خان آپکی دن بھریہ زمہ داری لگائی گئی اپ...             0   \n",
      "3                                       نہیں پائین 😎             0   \n",
      "4  `` مراد علی شاہ بھیس ڈی جی آئی ایس آئی تھے '' ...             1   \n",
      "5        قابل اعتبار ہی اکثر قاتل اعتبار ہوتے ہیں 💔🔥             1   \n",
      "6               انساں تھکا دیتا سوچوں سفر بھی ... 🍁🥀             0   \n",
      "7                              حامد میر صاحب ویلڈن👏😊             0   \n",
      "8  یار وچارہ ویلا ہوندا اس آرے لگا ہویا ہے😂😂 تسی ...             1   \n",
      "9              سمجھتے ہیں سارا پاکستان بیوقوف ھے 😂😂😂             1   \n",
      "\n",
      "                                        text_cleaned  \n",
      "0  :rolling_on_the_floor_laughing::face_with_tear...  \n",
      "1  چل مہمان کھان سرو کر چڑیل چاچ ن دسد آں میں:fac...  \n",
      "2  کامران خان آپک دن بھریہ زمہ دار لگائ گئ اپوزیش...  \n",
      "3            نہ پائین :smiling_face_with_sunglasses:  \n",
      "4  `` مراد عل شاہ بھیس ڈ ج آئ ایس آئ تھ حامد میر:...  \n",
      "5  قابل اعتبار ہ اکثر قاتل اعتبار ہوت ہ :broken_h...  \n",
      "6  انساں تھک دیت سوچ سفر بھ :maple_leaf::wilted_f...  \n",
      "7  حامد میر صاحب ویلڈن:clapping_hands::smiling_fa...  \n",
      "8  یار وچارہ ویل ہوند اس آر لگ ہو ہے:face_with_te...  \n",
      "9  سمجھت ہ سار پاکستان بیوقوف ھ :face_with_tears_...  \n"
     ]
    }
   ],
   "source": [
    "print(urdu_doc.head(10))"
   ]
  },
  {
   "cell_type": "markdown",
   "metadata": {},
   "source": [
    "### Lemmatization\n",
    "\n"
   ]
  },
  {
   "cell_type": "code",
   "execution_count": 16,
   "metadata": {},
   "outputs": [],
   "source": [
    "lemmatization_dict = {\n",
    "    \"چل\": \"چل\",\n",
    "    \"رہی\": \"رہ\",\n",
    "    \"ہونا\": \"ہو\",\n",
    "    \"ہو\": \"ہو\"\n",
    "    \n",
    "}\n",
    "\n",
    "def urdu_lemmatization(text):\n",
    "    lemmatized_words = []\n",
    "    \n",
    "    for word in text.split():\n",
    "        lemmatized_word = lemmatization_dict.get(word, word)\n",
    "        #returns the lemmatized form. If not found, it returns the original word.\n",
    "        lemmatized_words.append(lemmatized_word)\n",
    "    \n",
    "    return ' '.join(lemmatized_words)\n",
    "\n",
    "# Sample text\n"
   ]
  },
  {
   "cell_type": "code",
   "execution_count": 17,
   "metadata": {},
   "outputs": [],
   "source": [
    "urdu_doc['text_cleaned'] = urdu_doc['text_cleaned'].apply(lambda x:urdu_lemmatization(str(x)))"
   ]
  },
  {
   "cell_type": "code",
   "execution_count": 18,
   "metadata": {},
   "outputs": [
    {
     "name": "stdout",
     "output_type": "stream",
     "text": [
      "                                           urdu_text  is_sarcastic  \\\n",
      "0  🤣😂😂 ہو لینے دے میری شادی فسادن ٹھیک کوجی نہیں ...             1   \n",
      "1  چل مہمانوں کھانا سرو کر چڑیل چاچی نوں دسدی آں ...             1   \n",
      "2  کامران خان آپکی دن بھریہ زمہ داری لگائی گئی اپ...             0   \n",
      "3                                       نہیں پائین 😎             0   \n",
      "4  `` مراد علی شاہ بھیس ڈی جی آئی ایس آئی تھے '' ...             1   \n",
      "5        قابل اعتبار ہی اکثر قاتل اعتبار ہوتے ہیں 💔🔥             1   \n",
      "6               انساں تھکا دیتا سوچوں سفر بھی ... 🍁🥀             0   \n",
      "7                              حامد میر صاحب ویلڈن👏😊             0   \n",
      "8  یار وچارہ ویلا ہوندا اس آرے لگا ہویا ہے😂😂 تسی ...             1   \n",
      "9              سمجھتے ہیں سارا پاکستان بیوقوف ھے 😂😂😂             1   \n",
      "\n",
      "                                        text_cleaned  \n",
      "0  :rolling_on_the_floor_laughing::face_with_tear...  \n",
      "1  چل مہمان کھان سرو کر چڑیل چاچ ن دسد آں میں:fac...  \n",
      "2  کامران خان آپک دن بھریہ زمہ دار لگائ گئ اپوزیش...  \n",
      "3            نہ پائین :smiling_face_with_sunglasses:  \n",
      "4  `` مراد عل شاہ بھیس ڈ ج آئ ایس آئ تھ حامد میر:...  \n",
      "5  قابل اعتبار ہ اکثر قاتل اعتبار ہوت ہ :broken_h...  \n",
      "6  انساں تھک دیت سوچ سفر بھ :maple_leaf::wilted_f...  \n",
      "7  حامد میر صاحب ویلڈن:clapping_hands::smiling_fa...  \n",
      "8  یار وچارہ ویل ہوند اس آر لگ ہو ہے:face_with_te...  \n",
      "9  سمجھت ہ سار پاکستان بیوقوف ھ :face_with_tears_...  \n"
     ]
    }
   ],
   "source": [
    "print(urdu_doc.head(10))"
   ]
  },
  {
   "cell_type": "markdown",
   "metadata": {},
   "source": [
    " "
   ]
  },
  {
   "cell_type": "markdown",
   "metadata": {},
   "source": [
    "tokenitioz"
   ]
  },
  {
   "cell_type": "code",
   "execution_count": 69,
   "metadata": {},
   "outputs": [],
   "source": [
    "def tokenize_urdu(text):\n",
    "    tokens = text.split()  # Simple split based on spaces for now\n",
    "    return tokens\n",
    "urdu_doc['text_cleaned'] = urdu_doc['text_cleaned'].apply(tokenize_urdu)"
   ]
  },
  {
   "cell_type": "code",
   "execution_count": 70,
   "metadata": {},
   "outputs": [
    {
     "name": "stdout",
     "output_type": "stream",
     "text": [
      "                                           urdu_text  is_sarcastic  \\\n",
      "0  🤣😂😂 ہو لینے دے میری شادی فسادن ٹھیک کوجی نہیں ...             1   \n",
      "1  چل مہمانوں کھانا سرو کر چڑیل چاچی نوں دسدی آں ...             1   \n",
      "2  کامران خان آپکی دن بھریہ زمہ داری لگائی گئی اپ...             0   \n",
      "3                                       نہیں پائین 😎             0   \n",
      "4  `` مراد علی شاہ بھیس ڈی جی آئی ایس آئی تھے '' ...             1   \n",
      "5        قابل اعتبار ہی اکثر قاتل اعتبار ہوتے ہیں 💔🔥             1   \n",
      "6               انساں تھکا دیتا سوچوں سفر بھی ... 🍁🥀             0   \n",
      "7                              حامد میر صاحب ویلڈن👏😊             0   \n",
      "8  یار وچارہ ویلا ہوندا اس آرے لگا ہویا ہے😂😂 تسی ...             1   \n",
      "9              سمجھتے ہیں سارا پاکستان بیوقوف ھے 😂😂😂             1   \n",
      "\n",
      "                                        text_cleaned  \n",
      "0  [:rolling_on_the_floor_laughing::face_with_tea...  \n",
      "1  [چل, مہمانوں, کھانا, سرو, کر, چڑیل, چاچی, نوں,...  \n",
      "2  [کامران, خان, آپکی, دن, بھریہ, زمہ, داری, لگائ...  \n",
      "3      [نہیں, پائین, :smiling_face_with_sunglasses:]  \n",
      "4  [``, مراد, علی, شاہ, بھیس, ڈی, جی, آئی, ایس, آ...  \n",
      "5  [قابل, اعتبار, ہی, اکثر, قاتل, اعتبار, ہوتے, ہ...  \n",
      "6  [انساں, تھکا, دیتا, سوچوں, سفر, بھی, :maple_le...  \n",
      "7  [حامد, میر, صاحب, ویلڈن:clapping_hands::smilin...  \n",
      "8  [یار, وچارہ, ویلا, ہوندا, اس, آرے, لگا, ہویا, ...  \n",
      "9  [سمجھتے, ہیں, سارا, پاکستان, بیوقوف, ھے, :face...  \n"
     ]
    }
   ],
   "source": [
    "print(urdu_doc.head(10))"
   ]
  },
  {
   "cell_type": "code",
   "execution_count": 32,
   "metadata": {},
   "outputs": [
    {
     "name": "stdout",
     "output_type": "stream",
     "text": [
      "                                           urdu_text  is_sarcastic  \\\n",
      "0  🤣😂😂 ہو لینے دے میری شادی فسادن ٹھیک کوجی نہیں ...             1   \n",
      "1  چل مہمانوں کھانا سرو کر چڑیل چاچی نوں دسدی آں ...             1   \n",
      "2  کامران خان آپکی دن بھریہ زمہ داری لگائی گئی اپ...             0   \n",
      "3                                       نہیں پائین 😎             0   \n",
      "4  `` مراد علی شاہ بھیس ڈی جی آئی ایس آئی تھے '' ...             1   \n",
      "5        قابل اعتبار ہی اکثر قاتل اعتبار ہوتے ہیں 💔🔥             1   \n",
      "6               انساں تھکا دیتا سوچوں سفر بھی ... 🍁🥀             0   \n",
      "7                              حامد میر صاحب ویلڈن👏😊             0   \n",
      "8  یار وچارہ ویلا ہوندا اس آرے لگا ہویا ہے😂😂 تسی ...             1   \n",
      "9              سمجھتے ہیں سارا پاکستان بیوقوف ھے 😂😂😂             1   \n",
      "\n",
      "                                        text_cleaned  \n",
      "0  [:rolling_on_the_floor_laughing::face_with_tea...  \n",
      "1  [چل, مہمان, کھان, سرو, کر, چڑیل, چاچ, ن, دسد, ...  \n",
      "2  [کامران, خان, آپک, دن, بھریہ, زمہ, دار, لگائ, ...  \n",
      "3        [نہ, پائین, :smiling_face_with_sunglasses:]  \n",
      "4  [``, مراد, عل, شاہ, بھیس, ڈ, ج, آئ, ایس, آئ, ت...  \n",
      "5  [قابل, اعتبار, ہ, اکثر, قاتل, اعتبار, ہوت, ہ, ...  \n",
      "6  [انساں, تھک, دیت, سوچ, سفر, بھ, :maple_leaf::w...  \n",
      "7  [حامد, میر, صاحب, ویلڈن:clapping_hands::smilin...  \n",
      "8  [یار, وچارہ, ویل, ہوند, اس, آر, لگ, ہو, ہے:fac...  \n",
      "9  [سمجھت, ہ, سار, پاکستان, بیوقوف, ھ, :face_with...  \n"
     ]
    }
   ],
   "source": [
    "print(urdu_doc.head(10))"
   ]
  },
  {
   "cell_type": "markdown",
   "metadata": {},
   "source": [
    "2. Tf-IDF (Term Frequency-Inverse Document Frequency):"
   ]
  },
  {
   "cell_type": "code",
   "execution_count": 37,
   "metadata": {},
   "outputs": [
    {
     "name": "stdout",
     "output_type": "stream",
     "text": [
      "Top 10 words with the highest TF-IDF scores:\n",
      "ہے      2064.737440\n",
      "میں     1544.132987\n",
      "کی      1486.719459\n",
      "کے      1476.262468\n",
      "سے      1232.837948\n",
      "کو      1202.952322\n",
      "کا      1187.798265\n",
      "نہیں    1138.839427\n",
      "تو      1128.412590\n",
      "ہیں     1112.605098\n",
      "dtype: float64\n"
     ]
    }
   ],
   "source": [
    "import pandas as pd\n",
    "from sklearn.feature_extraction.text import TfidfVectorizer\n",
    "\n",
    "if 'urdu_text' not in urdu_doc.columns:\n",
    "    raise ValueError(\"The specified text column does not exist in the DataFrame.\")\n",
    "\n",
    "# Fill NaN values with empty strings\n",
    "urdu_doc['text_cleaned'] = urdu_doc['urdu_text'].fillna('')\n",
    "\n",
    "# Apply TF-IDF to the 'text_cleaned' column\n",
    "tfidf_vectorizer = TfidfVectorizer(max_features=100)  # max_features limits the number of features\n",
    "tfidf_matrix = tfidf_vectorizer.fit_transform(urdu_doc['text_cleaned'])\n",
    "\n",
    "# Convert the TF-IDF matrix into a DataFrame for better readability\n",
    "tfidf_df = pd.DataFrame(tfidf_matrix.toarray(), columns=tfidf_vectorizer.get_feature_names_out())\n",
    "\n",
    "# Sum the TF-IDF scores for each word\n",
    "tfidf_scores = tfidf_df.sum().sort_values(ascending=False)\n",
    "\n",
    "# Display the top 10 words with the highest TF-IDF scores\n",
    "top_10_words = tfidf_scores.head(10)\n",
    "print(\"Top 10 words with the highest TF-IDF scores:\")\n",
    "print(top_10_words)\n"
   ]
  },
  {
   "cell_type": "markdown",
   "metadata": {},
   "source": [
    "word 2 vec"
   ]
  },
  {
   "cell_type": "code",
   "execution_count": 77,
   "metadata": {},
   "outputs": [
    {
     "data": {
      "text/html": [
       "<div>\n",
       "<style scoped>\n",
       "    .dataframe tbody tr th:only-of-type {\n",
       "        vertical-align: middle;\n",
       "    }\n",
       "\n",
       "    .dataframe tbody tr th {\n",
       "        vertical-align: top;\n",
       "    }\n",
       "\n",
       "    .dataframe thead th {\n",
       "        text-align: right;\n",
       "    }\n",
       "</style>\n",
       "<table border=\"1\" class=\"dataframe\">\n",
       "  <thead>\n",
       "    <tr style=\"text-align: right;\">\n",
       "      <th></th>\n",
       "      <th>0</th>\n",
       "      <th>1</th>\n",
       "      <th>2</th>\n",
       "      <th>3</th>\n",
       "      <th>4</th>\n",
       "    </tr>\n",
       "  </thead>\n",
       "  <tbody>\n",
       "    <tr>\n",
       "      <th></th>\n",
       "      <td>-1.631688</td>\n",
       "      <td>-1.537113</td>\n",
       "      <td>-1.382816</td>\n",
       "      <td>-0.931264</td>\n",
       "      <td>-1.439911</td>\n",
       "    </tr>\n",
       "    <tr>\n",
       "      <th>ا</th>\n",
       "      <td>-1.951496</td>\n",
       "      <td>-1.836074</td>\n",
       "      <td>-1.874789</td>\n",
       "      <td>-1.241786</td>\n",
       "      <td>-1.781102</td>\n",
       "    </tr>\n",
       "    <tr>\n",
       "      <th>ی</th>\n",
       "      <td>-1.955267</td>\n",
       "      <td>-2.012426</td>\n",
       "      <td>-1.799330</td>\n",
       "      <td>-0.926513</td>\n",
       "      <td>-2.137409</td>\n",
       "    </tr>\n",
       "    <tr>\n",
       "      <th>و</th>\n",
       "      <td>-1.838868</td>\n",
       "      <td>-1.888490</td>\n",
       "      <td>-1.847167</td>\n",
       "      <td>-1.148612</td>\n",
       "      <td>-2.012259</td>\n",
       "    </tr>\n",
       "    <tr>\n",
       "      <th>ر</th>\n",
       "      <td>-1.668772</td>\n",
       "      <td>-1.951146</td>\n",
       "      <td>-2.113344</td>\n",
       "      <td>-1.558052</td>\n",
       "      <td>-2.141710</td>\n",
       "    </tr>\n",
       "    <tr>\n",
       "      <th>ن</th>\n",
       "      <td>-1.812945</td>\n",
       "      <td>-1.994869</td>\n",
       "      <td>-1.938829</td>\n",
       "      <td>-1.251881</td>\n",
       "      <td>-2.065731</td>\n",
       "    </tr>\n",
       "    <tr>\n",
       "      <th>ہ</th>\n",
       "      <td>-1.969456</td>\n",
       "      <td>-1.321615</td>\n",
       "      <td>-1.248916</td>\n",
       "      <td>-0.479507</td>\n",
       "      <td>-1.345282</td>\n",
       "    </tr>\n",
       "    <tr>\n",
       "      <th>ک</th>\n",
       "      <td>-1.769614</td>\n",
       "      <td>-1.673601</td>\n",
       "      <td>-1.487115</td>\n",
       "      <td>-0.762682</td>\n",
       "      <td>-1.808382</td>\n",
       "    </tr>\n",
       "    <tr>\n",
       "      <th>ت</th>\n",
       "      <td>-2.139714</td>\n",
       "      <td>-1.701169</td>\n",
       "      <td>-1.599855</td>\n",
       "      <td>-1.034887</td>\n",
       "      <td>-1.292345</td>\n",
       "    </tr>\n",
       "    <tr>\n",
       "      <th>ل</th>\n",
       "      <td>-1.923684</td>\n",
       "      <td>-1.017191</td>\n",
       "      <td>-2.037110</td>\n",
       "      <td>-1.495398</td>\n",
       "      <td>-1.313433</td>\n",
       "    </tr>\n",
       "    <tr>\n",
       "      <th>ے</th>\n",
       "      <td>-1.992657</td>\n",
       "      <td>-1.418801</td>\n",
       "      <td>-1.441608</td>\n",
       "      <td>-0.322689</td>\n",
       "      <td>-1.934519</td>\n",
       "    </tr>\n",
       "    <tr>\n",
       "      <th>م</th>\n",
       "      <td>-1.683517</td>\n",
       "      <td>-1.780017</td>\n",
       "      <td>-1.956787</td>\n",
       "      <td>-1.975033</td>\n",
       "      <td>-1.254458</td>\n",
       "    </tr>\n",
       "    <tr>\n",
       "      <th>ب</th>\n",
       "      <td>-2.046392</td>\n",
       "      <td>-1.783569</td>\n",
       "      <td>-1.727292</td>\n",
       "      <td>-1.192376</td>\n",
       "      <td>-1.419583</td>\n",
       "    </tr>\n",
       "    <tr>\n",
       "      <th>س</th>\n",
       "      <td>-1.765489</td>\n",
       "      <td>-1.502751</td>\n",
       "      <td>-1.704751</td>\n",
       "      <td>-1.066401</td>\n",
       "      <td>-1.647616</td>\n",
       "    </tr>\n",
       "    <tr>\n",
       "      <th>ھ</th>\n",
       "      <td>-2.218883</td>\n",
       "      <td>-1.692205</td>\n",
       "      <td>-1.526065</td>\n",
       "      <td>-0.103611</td>\n",
       "      <td>-2.284510</td>\n",
       "    </tr>\n",
       "  </tbody>\n",
       "</table>\n",
       "</div>"
      ],
      "text/plain": [
       "          0         1         2         3         4\n",
       "  -1.631688 -1.537113 -1.382816 -0.931264 -1.439911\n",
       "ا -1.951496 -1.836074 -1.874789 -1.241786 -1.781102\n",
       "ی -1.955267 -2.012426 -1.799330 -0.926513 -2.137409\n",
       "و -1.838868 -1.888490 -1.847167 -1.148612 -2.012259\n",
       "ر -1.668772 -1.951146 -2.113344 -1.558052 -2.141710\n",
       "ن -1.812945 -1.994869 -1.938829 -1.251881 -2.065731\n",
       "ہ -1.969456 -1.321615 -1.248916 -0.479507 -1.345282\n",
       "ک -1.769614 -1.673601 -1.487115 -0.762682 -1.808382\n",
       "ت -2.139714 -1.701169 -1.599855 -1.034887 -1.292345\n",
       "ل -1.923684 -1.017191 -2.037110 -1.495398 -1.313433\n",
       "ے -1.992657 -1.418801 -1.441608 -0.322689 -1.934519\n",
       "م -1.683517 -1.780017 -1.956787 -1.975033 -1.254458\n",
       "ب -2.046392 -1.783569 -1.727292 -1.192376 -1.419583\n",
       "س -1.765489 -1.502751 -1.704751 -1.066401 -1.647616\n",
       "ھ -2.218883 -1.692205 -1.526065 -0.103611 -2.284510"
      ]
     },
     "execution_count": 77,
     "metadata": {},
     "output_type": "execute_result"
    }
   ],
   "source": [
    "# CBOW (Continuous Bag of Words)\n",
    "\n",
    "import pandas as pd\n",
    "from gensim.models import Word2Vec\n",
    "\n",
    "# Training data\n",
    "\n",
    "\n",
    "# Training the CBOW model with sg=0\n",
    "model_cbow_sg0 = Word2Vec(urdu_doc['text_cleaned'], min_count=1, window=3, sg=0,vector_size= 5)\n",
    "\n",
    "# Accessing word vectors for CBOW (sg=0)\n",
    "word_vectors_sg0 = model_cbow_sg0.wv\n",
    "\n",
    "# Creating a DataFrame for word vectors with CBOW (sg=0)\n",
    "word_vectors_df_sg0 = pd.DataFrame(word_vectors_sg0.vectors, index=word_vectors_sg0.index_to_key)\n",
    "\n",
    "\n",
    "# Displaying the word vectors DataFrame\n",
    "word_vectors_df_sg0.head(15)\n",
    "\n"
   ]
  },
  {
   "cell_type": "code",
   "execution_count": 50,
   "metadata": {},
   "outputs": [
    {
     "name": "stdout",
     "output_type": "stream",
     "text": [
      "Word 'اچھا' not found in the vocabulary\n"
     ]
    }
   ],
   "source": [
    "import pandas as pd\n",
    "from gensim.models import Word2Vec\n",
    "\n",
    "# Tokenization function\n",
    "def tokenize(text):\n",
    "   \n",
    "    return nltk.word_tokenize(text)\n",
    "\n",
    "\n",
    "sentences = urdu_doc['urdu_text'].tolist()\n",
    "\n",
    "\n",
    "\n",
    "# Train the Word2Vec model on the tokenized sentences\n",
    "model = Word2Vec(sentences, vector_size=100, window=5, min_count=1, workers=4)\n",
    "\n",
    "# Step 3: Find Similar Words\n",
    "\n",
    "# Find the top 5 words most similar to \"اچھا\" (good)\n",
    "if \"اچھا\" in model.wv:\n",
    "    similar_words = model.wv.most_similar(\"اچھا\", topn=5)\n",
    "    print(\"Top 5 words most similar to 'اچھا':\")\n",
    "    for word, similarity in similar_words:\n",
    "        print(f\"{word}: {similarity:.4f}\")\n",
    "else:\n",
    "    print(\"Word 'اچھا' not found in the vocabulary\")\n",
    "   \n",
    "\n"
   ]
  },
  {
   "cell_type": "markdown",
   "metadata": {},
   "source": [
    "Phase 4: N-grams Analysis"
   ]
  },
  {
   "cell_type": "markdown",
   "metadata": {},
   "source": [
    "1. Unigram, Bigram, and Trigram Analysis:"
   ]
  },
  {
   "cell_type": "code",
   "execution_count": 39,
   "metadata": {},
   "outputs": [
    {
     "name": "stdout",
     "output_type": "stream",
     "text": [
      "Top 10 Unigrams: [('ہے', 7760), ('میں', 5647), ('کے', 5534), ('کی', 5309), ('سے', 4214), ('کو', 4205), ('کا', 3737), ('تو', 3707), ('اور', 3659), ('ہیں', 3447)]\n",
      "Top 10 Bigrams: [('ہے کہ', 499), ('عمران خان', 369), ('کے لیے', 320), ('رہے ہیں', 306), ('ہے اور', 284), ('میں نے', 281), ('رہا ہے', 281), ('کے ساتھ', 276), ('ہوتا ہے', 274), ('نواز شریف', 274)]\n",
      "Top 10 Trigrams: [('صلی اللہ علیہ', 86), ('پی ٹی آئی', 80), ('کر رہے ہیں', 75), ('آئی جی سندھ', 74), ('کی وجہ سے', 71), ('کو فالو کریں', 70), ('فالو کریں اور', 62), ('والوں کو فالو', 59), ('اللہ علیہ وآلہ', 59), ('علیہ وآلہ وسلم', 59)]\n"
     ]
    }
   ],
   "source": [
    "import pandas as pd\n",
    "import re\n",
    "from sklearn.feature_extraction.text import CountVectorizer\n",
    "from collections import Counter\n",
    "\n",
    "# Step 1: Load and Clean the Data\n",
    "\n",
    "# Load the dataset\n",
    "file_path = 'urdu_sarcastic_dataset.csv'\n",
    "urdu_data = pd.read_csv(file_path)\n",
    "\n",
    "# Drop unnecessary columns\n",
    "urdu_data = urdu_data.drop(columns=['Unnamed: 2', 'Unnamed: 3', 'Unnamed: 4', 'Unnamed: 5', 'Unnamed: 6', 'Unnamed: 7'])\n",
    "\n",
    "# Remove duplicates\n",
    "urdu_data.drop_duplicates(subset='urdu_text', inplace=True)\n",
    "\n",
    "# Handle missing values (drop rows where text or label is missing)\n",
    "urdu_data.dropna(subset=['urdu_text', 'is_sarcastic'], inplace=True)\n",
    "\n",
    "# Ensure labels are encoded as integer\n",
    "urdu_data['is_sarcastic'] = urdu_data['is_sarcastic'].astype(int)\n",
    "\n",
    "# Step 2: Text Normalization\n",
    "\n",
    "# Function to clean the Urdu text (remove emojis, punctuation, etc.)\n",
    "def clean_urdu_text(text):\n",
    "    text = re.sub(r'[^\\w\\s]', '', text)  # Remove punctuation and special characters\n",
    "    text = re.sub(r'\\d+', '', text)      # Remove numbers\n",
    "    text = text.strip()                  # Remove leading/trailing spaces\n",
    "    return text\n",
    "\n",
    "urdu_data['cleaned_text'] = urdu_data['urdu_text'].apply(clean_urdu_text)\n",
    "\n",
    "# Step 3: Unigram, Bigram, and Trigram Analysis\n",
    "\n",
    "# Tokenization function for proper Urdu word handling\n",
    "def tokenize_urdu(text):\n",
    "    tokens = text.split()  # Simple split based on spaces for now\n",
    "    return tokens\n",
    "\n",
    "# Vectorization for Unigrams, Bigrams, and Trigrams\n",
    "def get_top_ngrams(corpus, n=None, ngram_range=(1, 1)):\n",
    "    vec = CountVectorizer(ngram_range=ngram_range, tokenizer=tokenize_urdu).fit(corpus)\n",
    "    bag_of_words = vec.transform(corpus)\n",
    "    sum_words = bag_of_words.sum(axis=0)\n",
    "    words_freq = [(word, sum_words[0, idx]) for word, idx in vec.vocabulary_.items()]\n",
    "    words_freq = sorted(words_freq, key=lambda x: x[1], reverse=True)\n",
    "    return words_freq[:n]\n",
    "\n",
    "# Extract unigrams, bigrams, and trigrams\n",
    "top_10_unigrams = get_top_ngrams(urdu_data['cleaned_text'], n=10, ngram_range=(1, 1))\n",
    "top_10_bigrams = get_top_ngrams(urdu_data['cleaned_text'], n=10, ngram_range=(2, 2))\n",
    "top_10_trigrams = get_top_ngrams(urdu_data['cleaned_text'], n=10, ngram_range=(3, 3))\n",
    "\n",
    "# Display results\n",
    "print(\"Top 10 Unigrams:\", top_10_unigrams)\n",
    "print(\"Top 10 Bigrams:\", top_10_bigrams)\n",
    "print(\"Top 10 Trigrams:\", top_10_trigrams)\n",
    "\n",
    "# Step 4: Handle challenges in Urdu tokenization (simple space-based splitting used here; can use advanced libraries for Urdu NLP)\n"
   ]
  },
  {
   "cell_type": "markdown",
   "metadata": {},
   "source": [
    "Phase 5: Sentiment Classification Model\n",
    "1. Model Building:Logistic \n",
    "regression\n",
    "\n"
   ]
  },
  {
   "cell_type": "code",
   "execution_count": 41,
   "metadata": {},
   "outputs": [
    {
     "name": "stdout",
     "output_type": "stream",
     "text": [
      "Checking for NaN values...\n",
      "Missing values in 'text_cleaned': 0\n",
      "Missing values in 'is_sarcastic': 56\n",
      "Accuracy: 0.7886\n",
      "Precision: 0.7777\n",
      "Recall: 0.7858\n",
      "F1-Score: 0.7817\n"
     ]
    }
   ],
   "source": [
    "import pandas as pd\n",
    "import re\n",
    "from sklearn.model_selection import train_test_split\n",
    "from sklearn.feature_extraction.text import TfidfVectorizer\n",
    "from sklearn.linear_model import LogisticRegression\n",
    "from sklearn.metrics import accuracy_score, precision_score, recall_score, f1_score\n",
    "\n",
    "\n",
    "# Check for NaN values in the feature and target columns\n",
    "print(\"Checking for NaN values...\")\n",
    "print(\"Missing values in 'text_cleaned':\", urdu_doc['text_cleaned'].isnull().sum())\n",
    "print(\"Missing values in 'is_sarcastic':\", urdu_doc['is_sarcastic'].isnull().sum())\n",
    "\n",
    "# Fill NaN values in the text column with empty strings and drop rows with NaN in target\n",
    "urdu_doc['text_cleaned'] = urdu_doc['text_cleaned'].fillna('')\n",
    "urdu_doc = urdu_doc.dropna(subset=['is_sarcastic'])\n",
    "\n",
    "# Define features and target variable\n",
    "X = urdu_doc['text_cleaned']\n",
    "y = urdu_doc['is_sarcastic']\n",
    "\n",
    "# Split the dataset into training (80%) and testing (20%) sets\n",
    "X_train, X_test, y_train, y_test = train_test_split(X, y, test_size=0.2, random_state=42)\n",
    "\n",
    "# Step 3: Feature Extraction using TF-IDF\n",
    "# Create a TF-IDF Vectorizer\n",
    "tfidf_vectorizer = TfidfVectorizer(max_features=5000)\n",
    "\n",
    "# Fit and transform the training data and transform the test data\n",
    "X_train_tfidf = tfidf_vectorizer.fit_transform(X_train)\n",
    "X_test_tfidf = tfidf_vectorizer.transform(X_test)\n",
    "\n",
    "# Step 4: Train a Logistic Regression Model\n",
    "# Initialize the Logistic Regression model\n",
    "logistic_model =LogisticRegression()\n",
    "\n",
    "# Train the model using the training data\n",
    "logistic_model.fit(X_train_tfidf, y_train)\n",
    "\n",
    "# Step 5: Make Predictions on the Test Set\n",
    "# Predict sentiment on the test data\n",
    "y_pred = logistic_model.predict(X_test_tfidf)\n",
    "\n",
    "# Step 6: Evaluate the Model\n",
    "# Calculate accuracy, precision, recall, and F1-score\n",
    "accuracy = accuracy_score(y_test, y_pred)\n",
    "precision = precision_score(y_test, y_pred)\n",
    "recall = recall_score(y_test, y_pred)\n",
    "f1 = f1_score(y_test, y_pred)\n",
    "\n",
    "# Output the evaluation metrics\n",
    "print(f\"Accuracy: {accuracy:.4f}\")\n",
    "print(f\"Precision: {precision:.4f}\")\n",
    "print(f\"Recall: {recall:.4f}\")\n",
    "print(f\"F1-Score: {f1:.4f}\")\n"
   ]
  },
  {
   "cell_type": "code",
   "execution_count": 42,
   "metadata": {},
   "outputs": [
    {
     "name": "stdout",
     "output_type": "stream",
     "text": [
      "              precision    recall  f1-score   support\n",
      "\n",
      "         0.0       0.80      0.79      0.79      1534\n",
      "         1.0       0.78      0.79      0.79      1467\n",
      "\n",
      "    accuracy                           0.79      3001\n",
      "   macro avg       0.79      0.79      0.79      3001\n",
      "weighted avg       0.79      0.79      0.79      3001\n",
      "\n",
      "[[1208  326]\n",
      " [ 305 1162]]\n"
     ]
    }
   ],
   "source": [
    "from sklearn.metrics import classification_report, confusion_matrix\n",
    "\n",
    "# Split data into training, validation, and test sets (70% train, 15% validation, 15% test)\n",
    "X_train, X_val, y_train, y_val = train_test_split(X, y, test_size=0.3, random_state=42)\n",
    "X_val, X_test, y_val, y_test = train_test_split(X_val, y_val, test_size=0.5, random_state=42)\n",
    "\n",
    "# Feature extraction (TF-IDF or Word2Vec)\n",
    "X_train_tfidf = tfidf_vectorizer.fit_transform(X_train)\n",
    "X_val_tfidf = tfidf_vectorizer.transform(X_val)\n",
    "\n",
    "# Train the model on training data\n",
    "logistic_model.fit(X_train_tfidf, y_train)\n",
    "\n",
    "# Evaluate on validation set\n",
    "y_val_pred = logistic_model.predict(X_val_tfidf)\n",
    "\n",
    "# Evaluate model performance using precision, recall, and F1-score\n",
    "print(classification_report(y_val, y_val_pred))\n",
    "\n",
    "# Confusion matrix to see where the model makes errors\n",
    "conf_matrix = confusion_matrix(y_val, y_val_pred)\n",
    "print(conf_matrix)\n"
   ]
  },
  {
   "cell_type": "code",
   "execution_count": 78,
   "metadata": {},
   "outputs": [
    {
     "name": "stdout",
     "output_type": "stream",
     "text": [
      "Word 'اچھا' not found in the vocabulary\n",
      "          0         1         2         3         4\n",
      "  -1.679482 -1.634097 -1.259803 -0.905636 -1.535888\n",
      "ا -1.978248 -1.758047 -1.815373 -1.119332 -1.980789\n",
      "ی -2.094973 -2.200022 -1.493005 -0.810077 -1.965537\n",
      "و -2.076765 -2.062260 -1.665722 -1.169203 -1.793715\n",
      "ر -1.526314 -2.175138 -1.718325 -1.551897 -2.124195\n",
      "ن -1.699904 -2.047819 -1.599524 -1.240470 -1.979849\n",
      "ہ -1.851468 -1.169340 -1.211499 -0.287079 -1.652516\n",
      "ک -1.674443 -1.998479 -1.182406 -0.894521 -1.574178\n",
      "ت -1.848667 -1.373186 -1.601574 -0.899546 -1.770518\n",
      "ل -2.016893 -1.083521 -1.868247 -1.401605 -1.366028\n",
      "ے -2.214922 -1.939060 -1.194319 -0.330195 -1.678037\n",
      "م -1.277416 -1.182115 -2.068278 -1.697559 -2.243335\n",
      "ب -1.927191 -1.611825 -1.759189 -1.086884 -1.884008\n",
      "س -2.041070 -1.956499 -1.449531 -1.130180 -1.390669\n",
      "ھ -2.798220 -2.539895 -1.069149 -0.395377 -1.153318\n"
     ]
    }
   ],
   "source": [
    "# CBOW (Continuous Bag of Words)\n",
    "\n",
    "import pandas as pd\n",
    "from gensim.models import Word2Vec\n",
    "] = [['یہ', 'ایک', 'بہت', 'اچھا', 'دن'], ['مجھے', 'یہ', 'پسند', 'ہے'], ...]\n",
    "\n",
    "# Training the CBOW model with sg=0\n",
    "model_cbow_sg0 = Word2Vec(sentences=urdu_doc['text_cleaned'], min_count=1, window=3, sg=0, vector_size=5)\n",
    "\n",
    "# Accessing word vectors for CBOW (sg=0)\n",
    "word_vectors_sg0 = model_cbow_sg0.wv\n",
    "\n",
    "# Check if \"اچھا\" is in the vocabulary\n",
    "if \"اچھا\" in word_vectors_sg0:\n",
    "    similar_words = word_vectors_sg0.most_similar(\"اچھا\", topn=5)\n",
    "    print(\"Top 5 words most similar to 'اچھا':\")\n",
    "    for word, similarity in similar_words:\n",
    "        print(f\"{word}: {similarity:.4f}\")\n",
    "else:\n",
    "    print(\"Word 'اچھا' not found in the vocabulary\")\n",
    "\n",
    "# Displaying the word vectors DataFrame (optional)\n",
    "word_vectors_df_sg0 = pd.DataFrame(word_vectors_sg0.vectors, index=word_vectors_sg0.index_to_key)\n",
    "print(word_vectors_df_sg0.head(15))\n"
   ]
  },
  {
   "cell_type": "code",
   "execution_count": 81,
   "metadata": {},
   "outputs": [
    {
     "name": "stdout",
     "output_type": "stream",
     "text": [
      "                                           urdu_text  is_sarcastic  \\\n",
      "0  🤣😂😂 ہو لینے دے میری شادی فسادن ٹھیک کوجی نہیں ...             1   \n",
      "1  چل مہمانوں کھانا سرو کر چڑیل چاچی نوں دسدی آں ...             1   \n",
      "2  کامران خان آپکی دن بھریہ زمہ داری لگائی گئی اپ...             0   \n",
      "3                                       نہیں پائین 😎             0   \n",
      "4  `` مراد علی شاہ بھیس ڈی جی آئی ایس آئی تھے '' ...             1   \n",
      "\n",
      "                                        text_cleaned  \n",
      "0  🤣😂😂 ہو لینے دے میری شادی فسادن ٹھیک کوجی نہیں ...  \n",
      "1  چل مہمانوں کھانا سرو کر چڑیل چاچی نوں دسدی آں ...  \n",
      "2  کامران خان آپکی دن بھریہ زمہ داری لگائی گئی اپ...  \n",
      "3                                       نہیں پائین 😎  \n",
      "4  `` مراد علی شاہ بھیس ڈی جی آئی ایس آئی تھے '' ...  \n",
      "<class 'pandas.core.frame.DataFrame'>\n",
      "Index: 15813 entries, 0 to 20003\n",
      "Data columns (total 3 columns):\n",
      " #   Column        Non-Null Count  Dtype \n",
      "---  ------        --------------  ----- \n",
      " 0   urdu_text     15813 non-null  object\n",
      " 1   is_sarcastic  15813 non-null  int32 \n",
      " 2   text_cleaned  15813 non-null  object\n",
      "dtypes: int32(1), object(2)\n",
      "memory usage: 432.4+ KB\n",
      "None\n",
      "urdu_text       0\n",
      "is_sarcastic    0\n",
      "text_cleaned    0\n",
      "dtype: int64\n",
      "       is_sarcastic\n",
      "count  15813.000000\n",
      "mean       0.418706\n",
      "std        0.493363\n",
      "min        0.000000\n",
      "25%        0.000000\n",
      "50%        0.000000\n",
      "75%        1.000000\n",
      "max        1.000000\n"
     ]
    },
    {
     "data": {
      "image/png": "[encoded data removed]",
      "text/plain": [
       "<Figure size 800x500 with 1 Axes>"
      ]
     },
     "metadata": {},
     "output_type": "display_data"
    },
    {
     "data": {
      "image/png": "[encoded data removed]",
      "text/plain": [
       "<Figure size 1000x500 with 1 Axes>"
      ]
     },
     "metadata": {},
     "output_type": "display_data"
    },
    {
     "data": {
      "image/png": "[encoded data removed]",
      "text/plain": [
       "<Figure size 1000x500 with 1 Axes>"
      ]
     },
     "metadata": {},
     "output_type": "display_data"
    }
   ],
   "source": [
    "# Import necessary libraries\n",
    "import pandas as pd\n",
    "import matplotlib.pyplot as plt\n",
    "import seaborn as sns\n",
    "\n",
    "\n",
    "# Display the first few rows of the dataset\n",
    "print(urdu_doc.head())\n",
    "\n",
    "# Check the structure and data types\n",
    "print(urdu_doc.info())\n",
    "\n",
    "# Check for missing values\n",
    "print(urdu_doc.isnull().sum())\n",
    "\n",
    "# Basic statistical description of the dataset\n",
    "print(urdu_doc.describe())\n",
    "\n",
    "# Count the number of sarcastic and non-sarcastic posts\n",
    "sentiment_counts = urdu_doc['is_sarcastic'].value_counts()\n",
    "\n",
    "# Visualization of the sentiment counts\n",
    "plt.figure(figsize=(8, 5))\n",
    "sns.barplot(x=sentiment_counts.index, y=sentiment_counts.values, palette='viridis')\n",
    "plt.title('Count of Sarcastic vs Non-Sarcastic Posts')\n",
    "plt.xlabel('Sentiment (0 = Non-Sarcastic, 1 = Sarcastic)')\n",
    "plt.ylabel('Count')\n",
    "plt.xticks(ticks=[0, 1], labels=['Non-Sarcastic', 'Sarcastic'])\n",
    "plt.show()\n",
    "\n",
    "# Additional Analysis: Word Count Distribution\n",
    "urdu_doc['word_count'] = urdu_doc['urdu_text'].apply(lambda x: len(x.split()))\n",
    "\n",
    "# Visualization of word count distribution\n",
    "plt.figure(figsize=(10, 5))\n",
    "sns.histplot(urdu_doc['word_count'], bins=30, kde=True, color='blue')\n",
    "plt.title('Word Count Distribution in Posts')\n",
    "plt.xlabel('Word Count')\n",
    "plt.ylabel('Frequency')\n",
    "plt.show()\n",
    "\n",
    "# Boxplot to see the distribution of word counts by sentiment\n",
    "plt.figure(figsize=(10, 5))\n",
    "sns.boxplot(x='is_sarcastic', y='word_count', data=urdu_doc)\n",
    "plt.title('Word Count by Sentiment')\n",
    "plt.xlabel('Sentiment (0 = Non-Sarcastic, 1 = Sarcastic)')\n",
    "plt.ylabel('Word Count')\n",
    "plt.xticks(ticks=[0, 1], labels=['Non-Sarcastic', 'Sarcastic'])\n",
    "plt.show()\n"
   ]
  },
  {
   "cell_type": "markdown",
   "metadata": {},
   "source": [
    "-----------------------------------"
   ]
  }
 ],
 "metadata": {
  "kernelspec": {
   "display_name": "Python 3",
   "language": "python",
   "name": "python3"
  },
  "language_info": {
   "codemirror_mode": {
    "name": "ipython",
    "version": 3
   },
   "file_extension": ".py",
   "mimetype": "text/x-python",
   "name": "python",
   "nbconvert_exporter": "python",
   "pygments_lexer": "ipython3",
   "version": "3.12.2"
  }
 },
 "nbformat": 4,
 "nbformat_minor": 2
}
